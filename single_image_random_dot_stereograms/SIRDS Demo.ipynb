{
 "cells": [
  {
   "cell_type": "markdown",
   "metadata": {},
   "source": [
    "# TensorFlow single_image_random_dot_stereograms (SIRDS) DEMO"
   ]
  },
  {
   "cell_type": "code",
   "execution_count": 15,
   "metadata": {
    "collapsed": false
   },
   "outputs": [],
   "source": [
    "import tensorflow as tf\n",
    "import matplotlib.pyplot as plt    #not required for SIRDS\n",
    "import matplotlib.image as mpimg   #not required for SIRDS\n",
    "from tensorflow.contrib.image import single_image_random_dot_stereograms\n",
    "%matplotlib inline\n",
    "import numpy as np"
   ]
  },
  {
   "cell_type": "markdown",
   "metadata": {
    "collapsed": true
   },
   "source": [
    "Outputs a single image random dot stereogram for export via encode_PNG/JPG OP.\n",
    "\n",
    "Given the 2-D tensor 'depth_values' with encoded Z values, this operation will \n",
    "encode 3-D data into a 2-D image.  The output of this Op is suitable for the\n",
    "encode_PNG/JPG ops.  Be careful with image compression as this may corrupt the\n",
    "encode 3-D data witin the image.\n",
    "\n",
    "This Op is based upon:\n",
    "'https://www.cs.waikato.ac.nz/~ihw/papers/94-HWT-SI-IHW-SIRDS-paper.pdf'\n",
    "\n",
    "Example use which outputs a SIRDS image as picture_out.png:\n",
    "```python\n",
    "img=[[1,2,3,3,2,1],\n",
    "     [1,2,3,4,5,2],\n",
    "     [1,2,3,4,5,3],\n",
    "     [1,2,3,4,5,4],\n",
    "     [6,5,4,4,5,5]]\n",
    "\n",
    "session = tf.InteractiveSession()\n",
    "\n",
    "sirds = single_image_random_dot_stereograms(img,convergence_dots_size=8,number_colors=256,normalize=True)\n",
    "\n",
    "out = sirds.eval()\n",
    "\n",
    "png = tf.image.encode_png(out).eval()\n",
    "\n",
    "with open('picture_out.png', 'wb') as f:\n",
    "    f.write(png)\n",
    "```\n",
    "\n",
    "### Args:\n",
    "```\n",
    "depth_values: Z values of data to encode into 'output_data_window' window, \n",
    "  lower values are further away {0.0 floor(far), 1.0 ceiling(near) after normalization}, must be 2-D tensor\n",
    "hidden_surface_removal: Activate hidden surface removal\n",
    "convergence_dots_size: Black dot size in pixels to help view converge image, drawn on bottom of image\n",
    "dots_per_inch: Output device in dots/inch\n",
    "eye_separation: Separation between eyes in inches\n",
    "mu: Depth of field, Fraction of viewing distance (eg. 1/3 = .3333)\n",
    "normalize: Normalize input data to [0.0, 1.0] \n",
    "normalize_max: Fix MAX value for Normalization - if < MIN, autoscale\n",
    "normalize_min: Fix MIN value for Normalization - if > MAX, autoscale\n",
    "border_level: Value of bord in depth 0.0 {far} to 1.0 {near}\n",
    "number_colors: 2 (Black & White),256 (grayscale), and Numbers > 256 (Full Color) are all that are supported currently\n",
    "output_image_shape: Output size of returned image in X,Y, Channels 1-grayscale, 3 color (1024, 768, 1),\n",
    "  channels will be updated to 3 if 'number_colors' > 256\n",
    "output_data_window: Size of \"DATA\" window, must be equal to or smaller than 'output_image_shape', will be centered\n",
    "  and use 'convergence_dots_size' for best fit to avoid overlap if possible\n",
    "```\n",
    "\n",
    "### Retuns:\n",
    "```\n",
    "image: A tensor of size 'output_image_shape' with the encloded 'depth_values'\n",
    "```"
   ]
  },
  {
   "cell_type": "code",
   "execution_count": 16,
   "metadata": {
    "collapsed": true
   },
   "outputs": [],
   "source": [
    "session = tf.InteractiveSession()"
   ]
  },
  {
   "cell_type": "code",
   "execution_count": 17,
   "metadata": {
    "collapsed": false
   },
   "outputs": [
    {
     "data": {
      "image/png": "[encoded data removed]",
      "text/plain": [
       "<matplotlib.figure.Figure at 0x7f1ae055fd90>"
      ]
     },
     "metadata": {},
     "output_type": "display_data"
    }
   ],
   "source": [
    "img=[[1,2,3,3,2,1],\n",
    "     [1,2,3,4,5,2],\n",
    "     [1,2,3,4,5,3],\n",
    "     [1,2,3,4,5,4],\n",
    "     [6,5,4,4,5,5]]\n",
    "\n",
    "img=np.array(img)\n",
    "\n",
    "sirds = single_image_random_dot_stereograms(img,mu=.3333,convergence_dots_size=8,hidden_surface_removal=True,\n",
    "                                            number_colors=2,normalize=True,border_level=0.00)\n",
    "\n",
    "imgplot = plt.imshow(img,cmap=plt.cm.gray)"
   ]
  },
  {
   "cell_type": "code",
   "execution_count": 18,
   "metadata": {
    "collapsed": false
   },
   "outputs": [
    {
     "name": "stdout",
     "output_type": "stream",
     "text": [
      "2 Colors output, 1 color channel needed (768, 1024, 1)\n"
     ]
    }
   ],
   "source": [
    "out = sirds.eval()\n",
    "\n",
    "png = tf.image.encode_png(out,compression=-1).eval()\n",
    "print \"2 Colors output, 1 color channel needed\",out.shape\n",
    "\n",
    "with open('picture_out_2Color.png', 'wb') as f:\n",
    "    f.write(png)"
   ]
  },
  {
   "cell_type": "markdown",
   "metadata": {},
   "source": [
    "## 2 Color SIRDS\n",
    "<img src=\"./picture_out_2Color.png\" />"
   ]
  },
  {
   "cell_type": "code",
   "execution_count": 19,
   "metadata": {
    "collapsed": false
   },
   "outputs": [
    {
     "name": "stdout",
     "output_type": "stream",
     "text": [
      "256 Colors output, 1 color channel needed (768, 1024, 1)\n"
     ]
    }
   ],
   "source": [
    "sirds = single_image_random_dot_stereograms(img,mu=.3333,convergence_dots_size=8,hidden_surface_removal=True,\n",
    "                                            number_colors=256,normalize=True,border_level=0.00)\n",
    "out = sirds.eval()\n",
    "\n",
    "png = tf.image.encode_png(out,compression=-1).eval()\n",
    "print \"256 Colors output, 1 color channel needed\",out.shape\n",
    "\n",
    "with open('picture_out_256Color.png', 'wb') as f:\n",
    "    f.write(png)"
   ]
  },
  {
   "cell_type": "markdown",
   "metadata": {},
   "source": [
    "## 256 Color SIRDS \n",
    "<img src=\"./picture_out_256Color.png\" />"
   ]
  },
  {
   "cell_type": "code",
   "execution_count": 20,
   "metadata": {
    "collapsed": false
   },
   "outputs": [
    {
     "name": "stdout",
     "output_type": "stream",
     "text": [
      "True Colors output, 3 color channels needed (768, 1024, 3)\n"
     ]
    }
   ],
   "source": [
    "sirds = single_image_random_dot_stereograms(img,mu=.3333,convergence_dots_size=8,hidden_surface_removal=True,\n",
    "                                            output_image_shape=[1024,768,3],normalize=True,border_level=0.00)\n",
    "#Same as the following for true color, number_colors>256\n",
    "#sirds = single_image_random_dot_stereograms(img,mu=.3333,convergence_dots_size=8,hidden_surface_removal=True,\n",
    "#                                            number_colors=257,normalize=True,border_level=0.00)\n",
    "out = sirds.eval()\n",
    "\n",
    "png = tf.image.encode_png(out,compression=-1).eval()\n",
    "print \"True Colors output, 3 color channels needed\",out.shape\n",
    "\n",
    "with open('picture_out_TrueColor.png', 'wb') as f:\n",
    "    f.write(png)"
   ]
  },
  {
   "cell_type": "markdown",
   "metadata": {},
   "source": [
    "## True Color SIRDS \n",
    "<img src=\"./picture_out_TrueColor.png\" />"
   ]
  },
  {
   "cell_type": "code",
   "execution_count": 21,
   "metadata": {
    "collapsed": false
   },
   "outputs": [
    {
     "name": "stdout",
     "output_type": "stream",
     "text": [
      "True Colors output, 3 color channels needed (768, 1024, 3)\n"
     ]
    }
   ],
   "source": [
    "sirds = single_image_random_dot_stereograms(img,mu=.3333,convergence_dots_size=20,hidden_surface_removal=True,\n",
    "                                            number_colors=257,normalize=True,border_level=0.00,\n",
    "                                            output_data_window=[640,480])\n",
    "out = sirds.eval()\n",
    "\n",
    "png = tf.image.encode_png(out,compression=-1).eval()\n",
    "print \"True Colors output, 3 color channels needed\",out.shape\n",
    "\n",
    "with open('picture_out_TrueColor_window.png', 'wb') as f:\n",
    "    f.write(png)"
   ]
  },
  {
   "cell_type": "markdown",
   "metadata": {},
   "source": [
    "## True Color SIRDS, 640x480 window with 1024x768 image, allows for large convergence dot size as well, set to 20\n",
    "<img src=\"./picture_out_TrueColor_window.png\" />"
   ]
  },
  {
   "cell_type": "code",
   "execution_count": 22,
   "metadata": {
    "collapsed": false
   },
   "outputs": [
    {
     "name": "stdout",
     "output_type": "stream",
     "text": [
      "True Colors output, 3 color channels needed (768, 1024, 3)\n"
     ]
    }
   ],
   "source": [
    "sirds = single_image_random_dot_stereograms(img,mu=.3333,convergence_dots_size=20,hidden_surface_removal=True,\n",
    "                                            number_colors=257,normalize=True,border_level=0.50,\n",
    "                                            output_data_window=[640,480])\n",
    "out = sirds.eval()\n",
    "\n",
    "png = tf.image.encode_png(out,compression=-1).eval()\n",
    "print \"True Colors output, 3 color channels needed\",out.shape\n",
    "\n",
    "with open('picture_out_TrueColor_window_50.png', 'wb') as f:\n",
    "    f.write(png)"
   ]
  },
  {
   "cell_type": "markdown",
   "metadata": {},
   "source": [
    "## True Color SIRDS, 640x480 window with 1024x768 image, allows for large convergence dot size as well, set to 20\n",
    "Border Level has been raised to 50% of depth range, note that convergence dots might be more difficult\n",
    "to converge since they don't appear on the far plane or 0%\n",
    "<img src=\"./picture_out_TrueColor_window_50.png\" />"
   ]
  },
  {
   "cell_type": "markdown",
   "metadata": {},
   "source": [
    "# CONE like shape"
   ]
  },
  {
   "cell_type": "code",
   "execution_count": 23,
   "metadata": {
    "collapsed": false
   },
   "outputs": [
    {
     "data": {
      "image/png": "[encoded data removed]",
      "text/plain": [
       "<matplotlib.figure.Figure at 0x7f1ae050f0d0>"
      ]
     },
     "metadata": {},
     "output_type": "display_data"
    }
   ],
   "source": [
    "# Create a CONE type shape for demo\n",
    "img=range(0,500)+range(499,0,-1)\n",
    "\n",
    "x = np.linspace(0,10,999)\n",
    "img2=np.array(img)\n",
    "coneImage=np.array(img)\n",
    "coneImage=coneImage.reshape(1,-1)\n",
    "coneImage=coneImage*coneImage.T\n",
    "\n",
    "plotout=plt.plot(x,img2,'k--')"
   ]
  },
  {
   "cell_type": "code",
   "execution_count": 24,
   "metadata": {
    "collapsed": false
   },
   "outputs": [
    {
     "data": {
      "image/png": "[encoded data removed]",
      "text/plain": [
       "<matplotlib.figure.Figure at 0x7f1ae0469a90>"
      ]
     },
     "metadata": {},
     "output_type": "display_data"
    }
   ],
   "source": [
    "plotout=plt.imshow(coneImage,cmap=plt.cm.gray)"
   ]
  },
  {
   "cell_type": "code",
   "execution_count": 25,
   "metadata": {
    "collapsed": false
   },
   "outputs": [
    {
     "name": "stdout",
     "output_type": "stream",
     "text": [
      "True Colors output, 3 color channels needed (768, 1024, 3)\n"
     ]
    }
   ],
   "source": [
    "sirds = single_image_random_dot_stereograms(coneImage,mu=.3333,convergence_dots_size=20,hidden_surface_removal=True,\n",
    "                                            number_colors=257,normalize=True,border_level=0.00,\n",
    "                                            output_data_window=[640,480])\n",
    "\n",
    "out = sirds.eval()\n",
    "\n",
    "png = tf.image.encode_png(out,compression=-1).eval()\n",
    "print \"True Colors output, 3 color channels needed\",out.shape\n",
    "\n",
    "with open('picture_out_TrueColor_cone.png', 'wb') as f:\n",
    "    f.write(png)"
   ]
  },
  {
   "cell_type": "markdown",
   "metadata": {
    "collapsed": true
   },
   "source": [
    "## Cone like image\n",
    "<img src=\"./picture_out_TrueColor_cone.png\" />"
   ]
  },
  {
   "cell_type": "code",
   "execution_count": 26,
   "metadata": {
    "collapsed": false
   },
   "outputs": [
    {
     "name": "stdout",
     "output_type": "stream",
     "text": [
      "True Colors output, 3 color channels needed (768, 1024, 3)\n"
     ]
    }
   ],
   "source": [
    "sirds = single_image_random_dot_stereograms(coneImage,mu=.6666,convergence_dots_size=20,hidden_surface_removal=True,\n",
    "                                            number_colors=257,normalize=True,border_level=0.00,\n",
    "                                            output_data_window=[640,480])\n",
    "out = sirds.eval()\n",
    "\n",
    "png = tf.image.encode_png(out,compression=-1).eval()\n",
    "print \"True Colors output, 3 color channels needed\",out.shape\n",
    "\n",
    "with open('picture_out_TrueColor_cone_66.png', 'wb') as f:\n",
    "    f.write(png)"
   ]
  },
  {
   "cell_type": "markdown",
   "metadata": {},
   "source": [
    "## Cone like image with larger field of depth 66%\n",
    "<img src=\"./picture_out_TrueColor_cone_66.png\" />"
   ]
  },
  {
   "cell_type": "code",
   "execution_count": 27,
   "metadata": {
    "collapsed": false
   },
   "outputs": [
    {
     "name": "stdout",
     "output_type": "stream",
     "text": [
      "True Colors output, 3 color channels needed (768, 1024, 3)\n"
     ]
    }
   ],
   "source": [
    "sirds = single_image_random_dot_stereograms(coneImage,mu=.6666,convergence_dots_size=20,hidden_surface_removal=True,\n",
    "                                            number_colors=257,normalize=True,border_level=0.500,\n",
    "                                            output_data_window=[640,480])\n",
    "out = sirds.eval()\n",
    "\n",
    "png = tf.image.encode_png(out,compression=-1).eval()\n",
    "print \"True Colors output, 3 color channels needed\",out.shape\n",
    "with open('picture_out_TrueColor_cone_66_border_50.png', 'wb') as f:\n",
    "    f.write(png)"
   ]
  },
  {
   "cell_type": "markdown",
   "metadata": {},
   "source": [
    "## Cone like image full color Border level 50%\n",
    "<img src=\"./picture_out_TrueColor_cone_66_border_50.png\" />"
   ]
  },
  {
   "cell_type": "code",
   "execution_count": 28,
   "metadata": {
    "collapsed": false
   },
   "outputs": [
    {
     "name": "stdout",
     "output_type": "stream",
     "text": [
      "True Colors output, 3 color channels needed (768, 1024, 3)\n"
     ]
    }
   ],
   "source": [
    "sirds = single_image_random_dot_stereograms(coneImage,mu=.6666,convergence_dots_size=20,hidden_surface_removal=False,\n",
    "                                            number_colors=257,normalize=True,border_level=1.00,\n",
    "                                            output_data_window=[640,480])\n",
    "out = sirds.eval()\n",
    "\n",
    "png = tf.image.encode_png(out,compression=-1).eval()\n",
    "print \"True Colors output, 3 color channels needed\",out.shape\n",
    "\n",
    "with open('picture_out_TrueColor_cone_66_border_artifact.png', 'wb') as f:\n",
    "    f.write(png)"
   ]
  },
  {
   "cell_type": "markdown",
   "metadata": {},
   "source": [
    "## Cone like image with border artifact due to hidden surface FALSE\n",
    "<img src=\"./picture_out_TrueColor_cone_66_border_artifact.png\" />"
   ]
  }
 ],
 "metadata": {
  "kernelspec": {
   "display_name": "Python 2",
   "language": "python",
   "name": "python2"
  },
  "language_info": {
   "codemirror_mode": {
    "name": "ipython",
    "version": 2
   },
   "file_extension": ".py",
   "mimetype": "text/x-python",
   "name": "python",
   "nbconvert_exporter": "python",
   "pygments_lexer": "ipython2",
   "version": "2.7.12"
  }
 },
 "nbformat": 4,
 "nbformat_minor": 0
}
